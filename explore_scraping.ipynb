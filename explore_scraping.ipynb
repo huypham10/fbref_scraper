{
 "cells": [
  {
   "cell_type": "code",
   "execution_count": 21,
   "metadata": {},
   "outputs": [],
   "source": [
    "import pandas as pd"
   ]
  },
  {
   "cell_type": "code",
   "execution_count": 44,
   "metadata": {},
   "outputs": [
    {
     "name": "stderr",
     "output_type": "stream",
     "text": [
      "C:\\Users\\Huy's\\AppData\\Local\\Temp\\ipykernel_6956\\982059425.py:9: FutureWarning: Passing literal html to 'read_html' is deprecated and will be removed in a future version. To read from a literal string, wrap it in a 'StringIO' object.\n",
      "  table_df[table_id] = pd.read_html(str(table))[0]\n",
      "C:\\Users\\Huy's\\AppData\\Local\\Temp\\ipykernel_6956\\982059425.py:9: FutureWarning: Passing literal html to 'read_html' is deprecated and will be removed in a future version. To read from a literal string, wrap it in a 'StringIO' object.\n",
      "  table_df[table_id] = pd.read_html(str(table))[0]\n",
      "C:\\Users\\Huy's\\AppData\\Local\\Temp\\ipykernel_6956\\982059425.py:9: FutureWarning: Passing literal html to 'read_html' is deprecated and will be removed in a future version. To read from a literal string, wrap it in a 'StringIO' object.\n",
      "  table_df[table_id] = pd.read_html(str(table))[0]\n",
      "C:\\Users\\Huy's\\AppData\\Local\\Temp\\ipykernel_6956\\982059425.py:9: FutureWarning: Passing literal html to 'read_html' is deprecated and will be removed in a future version. To read from a literal string, wrap it in a 'StringIO' object.\n",
      "  table_df[table_id] = pd.read_html(str(table))[0]\n",
      "C:\\Users\\Huy's\\AppData\\Local\\Temp\\ipykernel_6956\\982059425.py:9: FutureWarning: Passing literal html to 'read_html' is deprecated and will be removed in a future version. To read from a literal string, wrap it in a 'StringIO' object.\n",
      "  table_df[table_id] = pd.read_html(str(table))[0]\n",
      "C:\\Users\\Huy's\\AppData\\Local\\Temp\\ipykernel_6956\\982059425.py:9: FutureWarning: Passing literal html to 'read_html' is deprecated and will be removed in a future version. To read from a literal string, wrap it in a 'StringIO' object.\n",
      "  table_df[table_id] = pd.read_html(str(table))[0]\n",
      "C:\\Users\\Huy's\\AppData\\Local\\Temp\\ipykernel_6956\\982059425.py:9: FutureWarning: Passing literal html to 'read_html' is deprecated and will be removed in a future version. To read from a literal string, wrap it in a 'StringIO' object.\n",
      "  table_df[table_id] = pd.read_html(str(table))[0]\n",
      "C:\\Users\\Huy's\\AppData\\Local\\Temp\\ipykernel_6956\\982059425.py:9: FutureWarning: Passing literal html to 'read_html' is deprecated and will be removed in a future version. To read from a literal string, wrap it in a 'StringIO' object.\n",
      "  table_df[table_id] = pd.read_html(str(table))[0]\n",
      "C:\\Users\\Huy's\\AppData\\Local\\Temp\\ipykernel_6956\\982059425.py:9: FutureWarning: Passing literal html to 'read_html' is deprecated and will be removed in a future version. To read from a literal string, wrap it in a 'StringIO' object.\n",
      "  table_df[table_id] = pd.read_html(str(table))[0]\n",
      "C:\\Users\\Huy's\\AppData\\Local\\Temp\\ipykernel_6956\\982059425.py:9: FutureWarning: Passing literal html to 'read_html' is deprecated and will be removed in a future version. To read from a literal string, wrap it in a 'StringIO' object.\n",
      "  table_df[table_id] = pd.read_html(str(table))[0]\n",
      "C:\\Users\\Huy's\\AppData\\Local\\Temp\\ipykernel_6956\\982059425.py:9: FutureWarning: Passing literal html to 'read_html' is deprecated and will be removed in a future version. To read from a literal string, wrap it in a 'StringIO' object.\n",
      "  table_df[table_id] = pd.read_html(str(table))[0]\n",
      "C:\\Users\\Huy's\\AppData\\Local\\Temp\\ipykernel_6956\\982059425.py:9: FutureWarning: Passing literal html to 'read_html' is deprecated and will be removed in a future version. To read from a literal string, wrap it in a 'StringIO' object.\n",
      "  table_df[table_id] = pd.read_html(str(table))[0]\n",
      "C:\\Users\\Huy's\\AppData\\Local\\Temp\\ipykernel_6956\\982059425.py:9: FutureWarning: Passing literal html to 'read_html' is deprecated and will be removed in a future version. To read from a literal string, wrap it in a 'StringIO' object.\n",
      "  table_df[table_id] = pd.read_html(str(table))[0]\n",
      "C:\\Users\\Huy's\\AppData\\Local\\Temp\\ipykernel_6956\\982059425.py:9: FutureWarning: Passing literal html to 'read_html' is deprecated and will be removed in a future version. To read from a literal string, wrap it in a 'StringIO' object.\n",
      "  table_df[table_id] = pd.read_html(str(table))[0]\n",
      "C:\\Users\\Huy's\\AppData\\Local\\Temp\\ipykernel_6956\\982059425.py:9: FutureWarning: Passing literal html to 'read_html' is deprecated and will be removed in a future version. To read from a literal string, wrap it in a 'StringIO' object.\n",
      "  table_df[table_id] = pd.read_html(str(table))[0]\n",
      "C:\\Users\\Huy's\\AppData\\Local\\Temp\\ipykernel_6956\\982059425.py:9: FutureWarning: Passing literal html to 'read_html' is deprecated and will be removed in a future version. To read from a literal string, wrap it in a 'StringIO' object.\n",
      "  table_df[table_id] = pd.read_html(str(table))[0]\n",
      "C:\\Users\\Huy's\\AppData\\Local\\Temp\\ipykernel_6956\\982059425.py:9: FutureWarning: Passing literal html to 'read_html' is deprecated and will be removed in a future version. To read from a literal string, wrap it in a 'StringIO' object.\n",
      "  table_df[table_id] = pd.read_html(str(table))[0]\n",
      "C:\\Users\\Huy's\\AppData\\Local\\Temp\\ipykernel_6956\\982059425.py:9: FutureWarning: Passing literal html to 'read_html' is deprecated and will be removed in a future version. To read from a literal string, wrap it in a 'StringIO' object.\n",
      "  table_df[table_id] = pd.read_html(str(table))[0]\n",
      "C:\\Users\\Huy's\\AppData\\Local\\Temp\\ipykernel_6956\\982059425.py:9: FutureWarning: Passing literal html to 'read_html' is deprecated and will be removed in a future version. To read from a literal string, wrap it in a 'StringIO' object.\n",
      "  table_df[table_id] = pd.read_html(str(table))[0]\n",
      "C:\\Users\\Huy's\\AppData\\Local\\Temp\\ipykernel_6956\\982059425.py:9: FutureWarning: Passing literal html to 'read_html' is deprecated and will be removed in a future version. To read from a literal string, wrap it in a 'StringIO' object.\n",
      "  table_df[table_id] = pd.read_html(str(table))[0]\n"
     ]
    }
   ],
   "source": [
    "from bs4 import BeautifulSoup\n",
    "from urllib.request import urlopen\n",
    "with urlopen('https://fbref.com/en/matches/f13e982e/Real-Betis-Girona-August-15-2024-La-Liga') as response:\n",
    "    soup = BeautifulSoup(response, 'html.parser')\n",
    "    tables = soup.find_all(\"table\")\n",
    "    table_df = {}\n",
    "    for i, table in enumerate(tables):\n",
    "        table_id = f\"No name table #{i}\" if table.get(\"id\") is None else table.get(\"id\")\n",
    "        table_df[table_id] = pd.read_html(str(table))[0]"
   ]
  },
  {
   "cell_type": "code",
   "execution_count": 52,
   "metadata": {},
   "outputs": [],
   "source": [
    "# profile \n",
    "with urlopen('https://fbref.com/en/matches/f13e982e/Real-Betis-Girona-August-15-2024-La-Liga') as response:\n",
    "    soup = BeautifulSoup(response, 'html.parser')\n",
    "    tables = soup.find_all(\"table\")\n",
    "    table_df = {}\n",
    "    for i, table in enumerate(tables):\n",
    "        table_id = f\"No name table #{i}\" if table.get(\"id\") is None else table.get(\"id\")\n",
    "        records = []\n",
    "        columns = []\n",
    "        for tr in table.findAll(\"tr\"):\n",
    "            ths = tr.findAll(\"th\")\n",
    "            if ths != []:\n",
    "                for each in ths:\n",
    "                    columns.append(each.text)\n",
    "            else:\n",
    "                trs = tr.findAll(\"td\")\n",
    "                record = []\n",
    "                for each in trs:\n",
    "                    try:\n",
    "                        link = each.find('a')['href']\n",
    "                        text = each.text\n",
    "                        record.append(link)\n",
    "                        record.append(text)\n",
    "                    except:\n",
    "                        text = each.text\n",
    "                        record.append(text)\n",
    "                records.append(record)\n",
    "\n",
    "        columns.insert(1, 'Link')\n",
    "        table_df[table_id] = pd.DataFrame(data=records)#, columns = columns)"
   ]
  },
  {
   "cell_type": "code",
   "execution_count": 50,
   "metadata": {},
   "outputs": [
    {
     "name": "stderr",
     "output_type": "stream",
     "text": [
      "C:\\Users\\Huy's\\AppData\\Local\\Temp\\ipykernel_6956\\2755705327.py:1: FutureWarning: Passing literal html to 'read_html' is deprecated and will be removed in a future version. To read from a literal string, wrap it in a 'StringIO' object.\n",
      "  pd.read_html(tables[3].prettify())\n"
     ]
    },
    {
     "data": {
      "text/plain": [
       "[   Unnamed: 0_level_0 Unnamed: 1_level_0 Unnamed: 2_level_0  \\\n",
       "                Player                  #             Nation   \n",
       " 0        Aitor Ruibal               24.0            es  ESP   \n",
       " 1      Ezequiel Ávila                9.0            ar  ARG   \n",
       " 2              Juanmi                7.0            es  ESP   \n",
       " 3     Abde Ezzalzouli               10.0            ma  MAR   \n",
       " 4       Pablo Fornals               18.0            es  ESP   \n",
       " 5               Rodri               17.0            es  ESP   \n",
       " 6         Nabil Fekir                8.0            fr  FRA   \n",
       " 7           Marc Roca               21.0            es  ESP   \n",
       " 8      Sergi Altimira               16.0            es  ESP   \n",
       " 9    William Carvalho               14.0            pt  POR   \n",
       " 10     Johnny Cardoso                4.0            us  USA   \n",
       " 11     Romain Perraud               15.0            fr  FRA   \n",
       " 12     Diego Llorente                3.0            es  ESP   \n",
       " 13        Marc Bartra                5.0            es  ESP   \n",
       " 14    Youssouf Sabaly               23.0            sn  SEN   \n",
       " 15          Rui Silva                1.0            pt  POR   \n",
       " 16         16 Players                NaN                NaN   \n",
       " \n",
       "    Unnamed: 3_level_0 Unnamed: 4_level_0 Unnamed: 5_level_0 Performance      \\\n",
       "                   Pos                Age                Min         Gls Ast   \n",
       " 0                  FW             28-146                 69           0   0   \n",
       " 1                  FW             30-191                 21           0   0   \n",
       " 2                  LW             31-087                 58           0   0   \n",
       " 3                  LW             22-242                 32           0   0   \n",
       " 4                  RW             28-175                 58           0   0   \n",
       " 5                  RW             24-091                 32           0   0   \n",
       " 6                  AM             31-028                 90           0   1   \n",
       " 7                  DM             27-263                 76           0   0   \n",
       " 8                  DM             22-356                 14           0   0   \n",
       " 9                  DM             32-130                 76           0   0   \n",
       " 10                 DM             22-330                 14           0   0   \n",
       " 11                 LB             26-328                 90           0   0   \n",
       " 12                 CB             30-365                 90           0   0   \n",
       " 13                 CB             33-213                 90           1   0   \n",
       " 14                 RB             31-163                 90           0   0   \n",
       " 15                 GK             30-190                 90           0   0   \n",
       " 16                NaN                NaN                990           1   1   \n",
       " \n",
       "              ... SCA     Passes                  Carries      Take-Ons       \n",
       "    PK PKatt  ... SCA GCA    Cmp  Att   Cmp% PrgP Carries PrgC      Att Succ  \n",
       " 0   0     0  ...   4   0     11   16   68.8    2      16    2        0    0  \n",
       " 1   0     0  ...   2   0      5    5  100.0    0       4    0        0    0  \n",
       " 2   0     0  ...   1   0      8   10   80.0    1      11    1        2    1  \n",
       " 3   0     0  ...   0   0      8    9   88.9    2      10    2        4    3  \n",
       " 4   0     0  ...   6   0     15   21   71.4    5      19    1        1    0  \n",
       " 5   0     0  ...   3   0     11   15   73.3    2      19    3        2    0  \n",
       " 6   0     0  ...   9   1     29   34   85.3    5      30    5        2    0  \n",
       " 7   0     0  ...   1   0     14   18   77.8    2      13    0        0    0  \n",
       " 8   0     0  ...   2   0     18   20   90.0    3      16    0        0    0  \n",
       " 9   0     0  ...   3   0     31   35   88.6    2      31    1        1    0  \n",
       " 10  0     0  ...   0   0     10   10  100.0    0       9    0        0    0  \n",
       " 11  0     0  ...   3   1     22   33   66.7    0      27    2        3    2  \n",
       " 12  0     0  ...   0   0     44   53   83.0    0      43    0        1    1  \n",
       " 13  0     0  ...   0   0     38   45   84.4    1      41    0        0    0  \n",
       " 14  0     0  ...   1   0     30   37   81.1    3      21    0        0    0  \n",
       " 15  0     0  ...   0   0     34   42   81.0    0      24    0        0    0  \n",
       " 16  0     0  ...  35   2    328  403   81.4   28     334   17       16    7  \n",
       " \n",
       " [17 rows x 31 columns]]"
      ]
     },
     "execution_count": 50,
     "metadata": {},
     "output_type": "execute_result"
    }
   ],
   "source": [
    "pd.read_html(tables[3].prettify())"
   ]
  },
  {
   "cell_type": "code",
   "execution_count": 54,
   "metadata": {},
   "outputs": [
    {
     "data": {
      "text/plain": [
       "dict_keys(['No name table #0', 'No name table #1', 'No name table #2', 'stats_fc536746_summary', 'stats_fc536746_passing', 'stats_fc536746_passing_types', 'stats_fc536746_defense', 'stats_fc536746_possession', 'stats_fc536746_misc', 'keeper_stats_fc536746', 'stats_9024a00a_summary', 'stats_9024a00a_passing', 'stats_9024a00a_passing_types', 'stats_9024a00a_defense', 'stats_9024a00a_possession', 'stats_9024a00a_misc', 'keeper_stats_9024a00a', 'shots_all', 'shots_fc536746', 'shots_9024a00a'])"
      ]
     },
     "execution_count": 54,
     "metadata": {},
     "output_type": "execute_result"
    }
   ],
   "source": [
    "table_df.keys()"
   ]
  },
  {
   "cell_type": "code",
   "execution_count": 55,
   "metadata": {},
   "outputs": [
    {
     "data": {
      "text/html": [
       "<div>\n",
       "<style scoped>\n",
       "    .dataframe tbody tr th:only-of-type {\n",
       "        vertical-align: middle;\n",
       "    }\n",
       "\n",
       "    .dataframe tbody tr th {\n",
       "        vertical-align: top;\n",
       "    }\n",
       "\n",
       "    .dataframe thead th {\n",
       "        text-align: right;\n",
       "    }\n",
       "</style>\n",
       "<table border=\"1\" class=\"dataframe\">\n",
       "  <thead>\n",
       "    <tr style=\"text-align: right;\">\n",
       "      <th></th>\n",
       "    </tr>\n",
       "  </thead>\n",
       "  <tbody>\n",
       "  </tbody>\n",
       "</table>\n",
       "</div>"
      ],
      "text/plain": [
       "Empty DataFrame\n",
       "Columns: []\n",
       "Index: []"
      ]
     },
     "execution_count": 55,
     "metadata": {},
     "output_type": "execute_result"
    }
   ],
   "source": [
    "table_df[\"stats_fc536746_summary\"]"
   ]
  },
  {
   "cell_type": "code",
   "execution_count": null,
   "metadata": {},
   "outputs": [],
   "source": []
  }
 ],
 "metadata": {
  "kernelspec": {
   "display_name": "env",
   "language": "python",
   "name": "python3"
  },
  "language_info": {
   "codemirror_mode": {
    "name": "ipython",
    "version": 3
   },
   "file_extension": ".py",
   "mimetype": "text/x-python",
   "name": "python",
   "nbconvert_exporter": "python",
   "pygments_lexer": "ipython3",
   "version": "3.12.5"
  }
 },
 "nbformat": 4,
 "nbformat_minor": 2
}
